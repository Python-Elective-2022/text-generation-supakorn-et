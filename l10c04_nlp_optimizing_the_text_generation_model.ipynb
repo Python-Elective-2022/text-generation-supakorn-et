{
  "cells": [
    {
      "cell_type": "markdown",
      "metadata": {
        "id": "punL79CN7Ox6"
      },
      "source": [
        "##### Copyright 2020 The TensorFlow Authors."
      ]
    },
    {
      "cell_type": "code",
      "execution_count": null,
      "metadata": {
        "cellView": "form",
        "id": "_ckMIh7O7s6D"
      },
      "outputs": [],
      "source": [
        "#@title Licensed under the Apache License, Version 2.0 (the \"License\");\n",
        "# you may not use this file except in compliance with the License.\n",
        "# You may obtain a copy of the License at\n",
        "#\n",
        "# https://www.apache.org/licenses/LICENSE-2.0\n",
        "#\n",
        "# Unless required by applicable law or agreed to in writing, software\n",
        "# distributed under the License is distributed on an \"AS IS\" BASIS,\n",
        "# WITHOUT WARRANTIES OR CONDITIONS OF ANY KIND, either express or implied.\n",
        "# See the License for the specific language governing permissions and\n",
        "# limitations under the License."
      ]
    },
    {
      "cell_type": "markdown",
      "metadata": {
        "id": "Ph5eir3Pf-3z"
      },
      "source": [
        "# Optimizing the Text Generation Model"
      ]
    },
    {
      "cell_type": "markdown",
      "metadata": {
        "id": "S5Uhzt6vVIB2"
      },
      "source": [
        "<table class=\"tfo-notebook-buttons\" align=\"left\">\n",
        "  <td>\n",
        "    <a target=\"_blank\" href=\"https://colab.research.google.com/github/tensorflow/examples/blob/master/courses/udacity_intro_to_tensorflow_for_deep_learning/l10c04_nlp_optimizing_the_text_generation_model.ipynb\"><img src=\"https://www.tensorflow.org/images/colab_logo_32px.png\" />Run in Google Colab</a>\n",
        "  </td>\n",
        "  <td>\n",
        "    <a target=\"_blank\" href=\"https://github.com/tensorflow/examples/blob/master/courses/udacity_intro_to_tensorflow_for_deep_learning/l10c04_nlp_optimizing_the_text_generation_model.ipynb\"><img src=\"https://www.tensorflow.org/images/GitHub-Mark-32px.png\" />View source on GitHub</a>\n",
        "  </td>\n",
        "</table>"
      ]
    },
    {
      "cell_type": "markdown",
      "metadata": {
        "id": "dCxhW3mtLmfb"
      },
      "source": [
        "You've already done some amazing work with generating new songs, but so far we've seen some issues with repetition and a fair amount of incoherence. By using more data and further tweaking the model, you'll be able to get improved results. We'll once again use the [Kaggle Song Lyrics Dataset](https://www.kaggle.com/mousehead/songlyrics) here."
      ]
    },
    {
      "cell_type": "markdown",
      "metadata": {
        "id": "4aHK2CYygXom"
      },
      "source": [
        "## Import TensorFlow and related functions"
      ]
    },
    {
      "cell_type": "code",
      "execution_count": 1,
      "metadata": {
        "id": "2LmLTREBf5ng"
      },
      "outputs": [],
      "source": [
        "import tensorflow as tf\n",
        "\n",
        "from tensorflow.keras.preprocessing.text import Tokenizer\n",
        "from tensorflow.keras.preprocessing.sequence import pad_sequences\n",
        "\n",
        "# Other imports for processing data\n",
        "import string\n",
        "import numpy as np\n",
        "import pandas as pd"
      ]
    },
    {
      "cell_type": "markdown",
      "metadata": {
        "id": "GmLTO_dpgge9"
      },
      "source": [
        "## Get the Dataset\n",
        "\n",
        "As noted above, we'll utilize the [Song Lyrics dataset](https://www.kaggle.com/mousehead/songlyrics) on Kaggle again."
      ]
    },
    {
      "cell_type": "code",
      "execution_count": 2,
      "metadata": {
        "id": "4Bf5FVHfganK",
        "outputId": "b593fafd-eaf4-4bce-d0b2-8270a2e3168f",
        "colab": {
          "base_uri": "https://localhost:8080/"
        }
      },
      "outputs": [
        {
          "output_type": "stream",
          "name": "stdout",
          "text": [
            "--2023-03-26 05:44:30--  https://drive.google.com/uc?id=1LiJFZd41ofrWoBtW-pMYsfz1w8Ny0Bj8\n",
            "Resolving drive.google.com (drive.google.com)... 173.194.202.101, 173.194.202.139, 173.194.202.100, ...\n",
            "Connecting to drive.google.com (drive.google.com)|173.194.202.101|:443... connected.\n",
            "HTTP request sent, awaiting response... 303 See Other\n",
            "Location: https://doc-04-ak-docs.googleusercontent.com/docs/securesc/ha0ro937gcuc7l7deffksulhg5h7mbp1/cgfk9eu5j9l6jk8cqvprgftlktl8jkcr/1679809425000/11118900490791463723/*/1LiJFZd41ofrWoBtW-pMYsfz1w8Ny0Bj8?uuid=6256d994-4f79-4d61-9c3f-65238b5449e4 [following]\n",
            "Warning: wildcards not supported in HTTP.\n",
            "--2023-03-26 05:44:32--  https://doc-04-ak-docs.googleusercontent.com/docs/securesc/ha0ro937gcuc7l7deffksulhg5h7mbp1/cgfk9eu5j9l6jk8cqvprgftlktl8jkcr/1679809425000/11118900490791463723/*/1LiJFZd41ofrWoBtW-pMYsfz1w8Ny0Bj8?uuid=6256d994-4f79-4d61-9c3f-65238b5449e4\n",
            "Resolving doc-04-ak-docs.googleusercontent.com (doc-04-ak-docs.googleusercontent.com)... 142.250.107.132, 2607:f8b0:400e:c0d::84\n",
            "Connecting to doc-04-ak-docs.googleusercontent.com (doc-04-ak-docs.googleusercontent.com)|142.250.107.132|:443... connected.\n",
            "HTTP request sent, awaiting response... 200 OK\n",
            "Length: 72436445 (69M) [text/csv]\n",
            "Saving to: ‘/tmp/songdata.csv’\n",
            "\n",
            "/tmp/songdata.csv   100%[===================>]  69.08M   110MB/s    in 0.6s    \n",
            "\n",
            "2023-03-26 05:44:33 (110 MB/s) - ‘/tmp/songdata.csv’ saved [72436445/72436445]\n",
            "\n"
          ]
        }
      ],
      "source": [
        "!wget --no-check-certificate \\\n",
        "    https://drive.google.com/uc?id=1LiJFZd41ofrWoBtW-pMYsfz1w8Ny0Bj8 \\\n",
        "    -O /tmp/songdata.csv"
      ]
    },
    {
      "cell_type": "markdown",
      "metadata": {
        "id": "Jz9x-7dWihxx"
      },
      "source": [
        "## 250 Songs\n",
        "\n",
        "Now we've seen a model trained on just a small sample of songs, and how this often leads to repetition as you get further along in trying to generate new text. Let's switch to using the 250 songs instead, and see if our output improves. This will actually be nearly 10K lines of lyrics, which should be sufficient.\n",
        "\n",
        "Note that we won't use the full dataset here as it will take up quite a bit of RAM and processing time, but you're welcome to try doing so on your own later. If interested, you'll likely want to use only some of the more common words for the Tokenizer, which will help shrink processing time and memory needed (or else you'd have an output array hundreds of thousands of words long)."
      ]
    },
    {
      "cell_type": "markdown",
      "metadata": {
        "id": "nWbMN_19jfRT"
      },
      "source": [
        "### Preprocessing"
      ]
    },
    {
      "cell_type": "code",
      "execution_count": 3,
      "metadata": {
        "id": "LRmPPJegovBe"
      },
      "outputs": [],
      "source": [
        "def tokenize_corpus(corpus, num_words=-1):\n",
        "  # Fit a Tokenizer on the corpus\n",
        "  if num_words > -1:\n",
        "    tokenizer = Tokenizer(num_words=num_words)\n",
        "  else:\n",
        "    tokenizer = Tokenizer()\n",
        "  tokenizer.fit_on_texts(corpus)\n",
        "  return tokenizer\n",
        "\n",
        "def create_lyrics_corpus(dataset, field):\n",
        "  # Remove all other punctuation\n",
        "  dataset[field] = dataset[field].str.replace('[{}]'.format(string.punctuation), '')\n",
        "  # Make it lowercase\n",
        "  dataset[field] = dataset[field].str.lower()\n",
        "  # Make it one long string to split by line\n",
        "  lyrics = dataset[field].str.cat()\n",
        "  corpus = lyrics.split('\\n')\n",
        "  # Remove any trailing whitespace\n",
        "  for l in range(len(corpus)):\n",
        "    corpus[l] = corpus[l].rstrip()\n",
        "  # Remove any empty lines\n",
        "  corpus = [l for l in corpus if l != '']\n",
        "\n",
        "  return corpus"
      ]
    },
    {
      "cell_type": "code",
      "execution_count": 4,
      "metadata": {
        "id": "kIGedF3XjHj4",
        "outputId": "d80cafbb-32b6-488c-b0fd-abb4610ecb2c",
        "colab": {
          "base_uri": "https://localhost:8080/"
        }
      },
      "outputs": [
        {
          "output_type": "stream",
          "name": "stdout",
          "text": [
            "2000\n"
          ]
        },
        {
          "output_type": "stream",
          "name": "stderr",
          "text": [
            "<ipython-input-3-fbdddccf8583>:12: FutureWarning: The default value of regex will change from True to False in a future version.\n",
            "  dataset[field] = dataset[field].str.replace('[{}]'.format(string.punctuation), '')\n"
          ]
        }
      ],
      "source": [
        "def tokenize_corpus(corpus, num_words=-1):\n",
        "  # Fit a Tokenizer on the corpus\n",
        "  if num_words > -1:\n",
        "    tokenizer = Tokenizer(num_words=num_words)\n",
        "  else:\n",
        "    tokenizer = Tokenizer()\n",
        "  tokenizer.fit_on_texts(corpus)\n",
        "  return tokenizer\n",
        "\n",
        "# Read the dataset from csv - this time with 250 songs\n",
        "dataset = pd.read_csv('/tmp/songdata.csv', dtype=str)[:250]\n",
        "# Create the corpus using the 'text' column containing lyrics\n",
        "corpus = create_lyrics_corpus(dataset, 'text')\n",
        "# Tokenize the corpus\n",
        "tokenizer = tokenize_corpus(corpus, num_words=2000)\n",
        "total_words = tokenizer.num_words\n",
        "\n",
        "# There should be a lot more words now\n",
        "print(total_words)"
      ]
    },
    {
      "cell_type": "markdown",
      "metadata": {
        "id": "quoDmw_FkNBA"
      },
      "source": [
        "### Create Sequences and Labels"
      ]
    },
    {
      "cell_type": "code",
      "execution_count": 5,
      "metadata": {
        "id": "kkLAf3HmkPSo"
      },
      "outputs": [],
      "source": [
        "sequences = []\n",
        "for line in corpus:\n",
        "\ttoken_list = tokenizer.texts_to_sequences([line])[0]\n",
        "\tfor i in range(1, len(token_list)):\n",
        "\t\tn_gram_sequence = token_list[:i+1]\n",
        "\t\tsequences.append(n_gram_sequence)\n",
        "\n",
        "# Pad sequences for equal input length \n",
        "max_sequence_len = max([len(seq) for seq in sequences])\n",
        "sequences = np.array(pad_sequences(sequences, maxlen=max_sequence_len, padding='pre'))\n",
        "\n",
        "# Split sequences between the \"input\" sequence and \"output\" predicted word\n",
        "input_sequences, labels = sequences[:,:-1], sequences[:,-1]\n",
        "# One-hot encode the labels\n",
        "one_hot_labels = tf.keras.utils.to_categorical(labels, num_classes=total_words)"
      ]
    },
    {
      "cell_type": "markdown",
      "metadata": {
        "id": "cECbqT-blMk-"
      },
      "source": [
        "### Train a (Better) Text Generation Model\n",
        "\n",
        "With more data, we'll cut off after 100 epochs to avoid keeping you here all day. You'll also want to change your runtime type to GPU if you haven't already (you'll need to re-run the above cells if you change runtimes)."
      ]
    },
    {
      "cell_type": "code",
      "execution_count": 7,
      "metadata": {
        "id": "7nHOp6uWlP_P",
        "outputId": "e3de0555-6335-4d30-f3b2-b1abf7fb5e50",
        "colab": {
          "base_uri": "https://localhost:8080/"
        }
      },
      "outputs": [
        {
          "output_type": "stream",
          "name": "stdout",
          "text": [
            "Epoch 1/100\n",
            "1480/1480 [==============================] - 20s 11ms/step - loss: 5.9802 - accuracy: 0.0468\n",
            "Epoch 2/100\n",
            "1480/1480 [==============================] - 11s 8ms/step - loss: 5.6915 - accuracy: 0.0495\n",
            "Epoch 3/100\n",
            "1480/1480 [==============================] - 12s 8ms/step - loss: 5.5310 - accuracy: 0.0625\n",
            "Epoch 4/100\n",
            "1480/1480 [==============================] - 12s 8ms/step - loss: 5.3413 - accuracy: 0.0865\n",
            "Epoch 5/100\n",
            "1480/1480 [==============================] - 11s 8ms/step - loss: 5.1235 - accuracy: 0.1109\n",
            "Epoch 6/100\n",
            "1480/1480 [==============================] - 11s 8ms/step - loss: 4.9282 - accuracy: 0.1317\n",
            "Epoch 7/100\n",
            "1480/1480 [==============================] - 11s 8ms/step - loss: 4.7664 - accuracy: 0.1493\n",
            "Epoch 8/100\n",
            "1480/1480 [==============================] - 11s 8ms/step - loss: 4.6252 - accuracy: 0.1644\n",
            "Epoch 9/100\n",
            "1480/1480 [==============================] - 12s 8ms/step - loss: 4.5001 - accuracy: 0.1791\n",
            "Epoch 10/100\n",
            "1480/1480 [==============================] - 12s 8ms/step - loss: 4.3859 - accuracy: 0.1935\n",
            "Epoch 11/100\n",
            "1480/1480 [==============================] - 12s 8ms/step - loss: 4.2820 - accuracy: 0.2033\n",
            "Epoch 12/100\n",
            "1480/1480 [==============================] - 11s 8ms/step - loss: 4.1971 - accuracy: 0.2119\n",
            "Epoch 13/100\n",
            "1480/1480 [==============================] - 11s 7ms/step - loss: 4.1070 - accuracy: 0.2222\n",
            "Epoch 14/100\n",
            "1480/1480 [==============================] - 11s 7ms/step - loss: 4.0316 - accuracy: 0.2326\n",
            "Epoch 15/100\n",
            "1480/1480 [==============================] - 12s 8ms/step - loss: 3.9653 - accuracy: 0.2394\n",
            "Epoch 16/100\n",
            "1480/1480 [==============================] - 11s 8ms/step - loss: 3.9077 - accuracy: 0.2489\n",
            "Epoch 17/100\n",
            "1480/1480 [==============================] - 11s 8ms/step - loss: 3.8386 - accuracy: 0.2583\n",
            "Epoch 18/100\n",
            "1480/1480 [==============================] - 11s 8ms/step - loss: 3.7820 - accuracy: 0.2668\n",
            "Epoch 19/100\n",
            "1480/1480 [==============================] - 11s 8ms/step - loss: 3.7280 - accuracy: 0.2740\n",
            "Epoch 20/100\n",
            "1480/1480 [==============================] - 12s 8ms/step - loss: 3.6823 - accuracy: 0.2786\n",
            "Epoch 21/100\n",
            "1480/1480 [==============================] - 12s 8ms/step - loss: 3.6408 - accuracy: 0.2854\n",
            "Epoch 22/100\n",
            "1480/1480 [==============================] - 12s 8ms/step - loss: 3.6020 - accuracy: 0.2889\n",
            "Epoch 23/100\n",
            "1480/1480 [==============================] - 12s 8ms/step - loss: 3.5562 - accuracy: 0.2949\n",
            "Epoch 24/100\n",
            "1480/1480 [==============================] - 12s 8ms/step - loss: 3.5299 - accuracy: 0.2982\n",
            "Epoch 25/100\n",
            "1480/1480 [==============================] - 12s 8ms/step - loss: 3.4848 - accuracy: 0.3055\n",
            "Epoch 26/100\n",
            "1480/1480 [==============================] - 12s 8ms/step - loss: 3.4504 - accuracy: 0.3091\n",
            "Epoch 27/100\n",
            "1480/1480 [==============================] - 12s 8ms/step - loss: 3.4160 - accuracy: 0.3149\n",
            "Epoch 28/100\n",
            "1480/1480 [==============================] - 12s 8ms/step - loss: 3.3879 - accuracy: 0.3192\n",
            "Epoch 29/100\n",
            "1480/1480 [==============================] - 12s 8ms/step - loss: 3.3606 - accuracy: 0.3228\n",
            "Epoch 30/100\n",
            "1480/1480 [==============================] - 12s 8ms/step - loss: 3.3290 - accuracy: 0.3272\n",
            "Epoch 31/100\n",
            "1480/1480 [==============================] - 11s 7ms/step - loss: 3.3035 - accuracy: 0.3330\n",
            "Epoch 32/100\n",
            "1480/1480 [==============================] - 11s 8ms/step - loss: 3.2730 - accuracy: 0.3378\n",
            "Epoch 33/100\n",
            "1480/1480 [==============================] - 11s 8ms/step - loss: 3.2435 - accuracy: 0.3424\n",
            "Epoch 34/100\n",
            "1480/1480 [==============================] - 11s 8ms/step - loss: 3.2245 - accuracy: 0.3452\n",
            "Epoch 35/100\n",
            "1480/1480 [==============================] - 11s 8ms/step - loss: 3.2225 - accuracy: 0.3443\n",
            "Epoch 36/100\n",
            "1480/1480 [==============================] - 11s 8ms/step - loss: 3.1875 - accuracy: 0.3498\n",
            "Epoch 37/100\n",
            "1480/1480 [==============================] - 12s 8ms/step - loss: 3.1601 - accuracy: 0.3532\n",
            "Epoch 38/100\n",
            "1480/1480 [==============================] - 11s 8ms/step - loss: 3.1381 - accuracy: 0.3594\n",
            "Epoch 39/100\n",
            "1480/1480 [==============================] - 12s 8ms/step - loss: 3.1293 - accuracy: 0.3595\n",
            "Epoch 40/100\n",
            "1480/1480 [==============================] - 11s 8ms/step - loss: 3.1073 - accuracy: 0.3612\n",
            "Epoch 41/100\n",
            "1480/1480 [==============================] - 11s 8ms/step - loss: 3.0870 - accuracy: 0.3673\n",
            "Epoch 42/100\n",
            "1480/1480 [==============================] - 11s 8ms/step - loss: 3.0602 - accuracy: 0.3716\n",
            "Epoch 43/100\n",
            "1480/1480 [==============================] - 12s 8ms/step - loss: 3.0636 - accuracy: 0.3695\n",
            "Epoch 44/100\n",
            "1480/1480 [==============================] - 11s 8ms/step - loss: 3.0517 - accuracy: 0.3711\n",
            "Epoch 45/100\n",
            "1480/1480 [==============================] - 11s 8ms/step - loss: 3.0249 - accuracy: 0.3781\n",
            "Epoch 46/100\n",
            "1480/1480 [==============================] - 11s 8ms/step - loss: 3.0019 - accuracy: 0.3817\n",
            "Epoch 47/100\n",
            "1480/1480 [==============================] - 12s 8ms/step - loss: 2.9833 - accuracy: 0.3835\n",
            "Epoch 48/100\n",
            "1480/1480 [==============================] - 12s 8ms/step - loss: 2.9611 - accuracy: 0.3880\n",
            "Epoch 49/100\n",
            "1480/1480 [==============================] - 12s 8ms/step - loss: 2.9547 - accuracy: 0.3883\n",
            "Epoch 50/100\n",
            "1480/1480 [==============================] - 11s 8ms/step - loss: 2.9247 - accuracy: 0.3928\n",
            "Epoch 51/100\n",
            "1480/1480 [==============================] - 12s 8ms/step - loss: 2.9117 - accuracy: 0.3960\n",
            "Epoch 52/100\n",
            "1480/1480 [==============================] - 12s 8ms/step - loss: 2.8978 - accuracy: 0.3971\n",
            "Epoch 53/100\n",
            "1480/1480 [==============================] - 12s 8ms/step - loss: 2.8960 - accuracy: 0.3988\n",
            "Epoch 54/100\n",
            "1480/1480 [==============================] - 12s 8ms/step - loss: 2.8708 - accuracy: 0.4048\n",
            "Epoch 55/100\n",
            "1480/1480 [==============================] - 12s 8ms/step - loss: 2.8599 - accuracy: 0.4034\n",
            "Epoch 56/100\n",
            "1480/1480 [==============================] - 12s 8ms/step - loss: 2.8447 - accuracy: 0.4082\n",
            "Epoch 57/100\n",
            "1480/1480 [==============================] - 12s 8ms/step - loss: 2.8305 - accuracy: 0.4099\n",
            "Epoch 58/100\n",
            "1480/1480 [==============================] - 11s 8ms/step - loss: 2.8280 - accuracy: 0.4088\n",
            "Epoch 59/100\n",
            "1480/1480 [==============================] - 11s 8ms/step - loss: 2.8092 - accuracy: 0.4129\n",
            "Epoch 60/100\n",
            "1480/1480 [==============================] - 11s 8ms/step - loss: 2.8026 - accuracy: 0.4146\n",
            "Epoch 61/100\n",
            "1480/1480 [==============================] - 11s 7ms/step - loss: 2.7852 - accuracy: 0.4188\n",
            "Epoch 62/100\n",
            "1480/1480 [==============================] - 11s 7ms/step - loss: 2.7672 - accuracy: 0.4202\n",
            "Epoch 63/100\n",
            "1480/1480 [==============================] - 11s 8ms/step - loss: 2.7612 - accuracy: 0.4210\n",
            "Epoch 64/100\n",
            "1480/1480 [==============================] - 11s 8ms/step - loss: 2.7473 - accuracy: 0.4244\n",
            "Epoch 65/100\n",
            "1480/1480 [==============================] - 11s 8ms/step - loss: 2.7479 - accuracy: 0.4245\n",
            "Epoch 66/100\n",
            "1480/1480 [==============================] - 11s 8ms/step - loss: 2.7427 - accuracy: 0.4246\n",
            "Epoch 67/100\n",
            "1480/1480 [==============================] - 11s 8ms/step - loss: 2.7180 - accuracy: 0.4289\n",
            "Epoch 68/100\n",
            "1480/1480 [==============================] - 11s 8ms/step - loss: 2.7078 - accuracy: 0.4304\n",
            "Epoch 69/100\n",
            "1480/1480 [==============================] - 11s 8ms/step - loss: 2.6987 - accuracy: 0.4320\n",
            "Epoch 70/100\n",
            "1480/1480 [==============================] - 11s 8ms/step - loss: 2.7027 - accuracy: 0.4325\n",
            "Epoch 71/100\n",
            "1480/1480 [==============================] - 11s 8ms/step - loss: 2.6806 - accuracy: 0.4373\n",
            "Epoch 72/100\n",
            "1480/1480 [==============================] - 11s 8ms/step - loss: 2.6562 - accuracy: 0.4407\n",
            "Epoch 73/100\n",
            "1480/1480 [==============================] - 11s 8ms/step - loss: 2.6469 - accuracy: 0.4433\n",
            "Epoch 74/100\n",
            "1480/1480 [==============================] - 11s 8ms/step - loss: 2.6429 - accuracy: 0.4433\n",
            "Epoch 75/100\n",
            "1480/1480 [==============================] - 11s 7ms/step - loss: 2.6391 - accuracy: 0.4432\n",
            "Epoch 76/100\n",
            "1480/1480 [==============================] - 11s 7ms/step - loss: 2.6381 - accuracy: 0.4433\n",
            "Epoch 77/100\n",
            "1480/1480 [==============================] - 11s 8ms/step - loss: 2.6246 - accuracy: 0.4458\n",
            "Epoch 78/100\n",
            "1480/1480 [==============================] - 11s 8ms/step - loss: 2.6355 - accuracy: 0.4432\n",
            "Epoch 79/100\n",
            "1480/1480 [==============================] - 11s 8ms/step - loss: 2.6103 - accuracy: 0.4492\n",
            "Epoch 80/100\n",
            "1480/1480 [==============================] - 11s 8ms/step - loss: 2.5973 - accuracy: 0.4506\n",
            "Epoch 81/100\n",
            "1480/1480 [==============================] - 11s 8ms/step - loss: 2.5768 - accuracy: 0.4541\n",
            "Epoch 82/100\n",
            "1480/1480 [==============================] - 11s 8ms/step - loss: 2.5732 - accuracy: 0.4548\n",
            "Epoch 83/100\n",
            "1480/1480 [==============================] - 11s 8ms/step - loss: 2.5677 - accuracy: 0.4562\n",
            "Epoch 84/100\n",
            "1480/1480 [==============================] - 11s 8ms/step - loss: 2.5578 - accuracy: 0.4579\n",
            "Epoch 85/100\n",
            "1480/1480 [==============================] - 11s 8ms/step - loss: 2.5535 - accuracy: 0.4594\n",
            "Epoch 86/100\n",
            "1480/1480 [==============================] - 11s 8ms/step - loss: 2.5507 - accuracy: 0.4610\n",
            "Epoch 87/100\n",
            "1480/1480 [==============================] - 11s 7ms/step - loss: 2.5420 - accuracy: 0.4611\n",
            "Epoch 88/100\n",
            "1480/1480 [==============================] - 11s 7ms/step - loss: 2.5513 - accuracy: 0.4587\n",
            "Epoch 89/100\n",
            "1480/1480 [==============================] - 11s 8ms/step - loss: 2.5349 - accuracy: 0.4627\n",
            "Epoch 90/100\n",
            "1480/1480 [==============================] - 11s 8ms/step - loss: 2.5485 - accuracy: 0.4593\n",
            "Epoch 91/100\n",
            "1480/1480 [==============================] - 12s 8ms/step - loss: 2.5295 - accuracy: 0.4629\n",
            "Epoch 92/100\n",
            "1480/1480 [==============================] - 11s 8ms/step - loss: 2.5105 - accuracy: 0.4653\n",
            "Epoch 93/100\n",
            "1480/1480 [==============================] - 11s 8ms/step - loss: 2.5136 - accuracy: 0.4648\n",
            "Epoch 94/100\n",
            "1480/1480 [==============================] - 11s 8ms/step - loss: 2.5026 - accuracy: 0.4683\n",
            "Epoch 95/100\n",
            "1480/1480 [==============================] - 11s 8ms/step - loss: 2.4874 - accuracy: 0.4710\n",
            "Epoch 96/100\n",
            "1480/1480 [==============================] - 11s 8ms/step - loss: 2.4951 - accuracy: 0.4691\n",
            "Epoch 97/100\n",
            "1480/1480 [==============================] - 11s 8ms/step - loss: 2.4987 - accuracy: 0.4676\n",
            "Epoch 98/100\n",
            "1480/1480 [==============================] - 11s 8ms/step - loss: 2.4776 - accuracy: 0.4733\n",
            "Epoch 99/100\n",
            "1480/1480 [==============================] - 11s 7ms/step - loss: 2.4771 - accuracy: 0.4710\n",
            "Epoch 100/100\n",
            "1480/1480 [==============================] - 11s 7ms/step - loss: 2.4571 - accuracy: 0.4769\n"
          ]
        }
      ],
      "source": [
        "from tensorflow.keras.models import Sequential\n",
        "from tensorflow.keras.layers import Embedding, LSTM, Dense, Bidirectional\n",
        "\n",
        "model = Sequential()\n",
        "model.add(Embedding(total_words, 64, input_length=max_sequence_len-1))\n",
        "model.add(Bidirectional(LSTM(20)))\n",
        "model.add(Dense(total_words, activation='softmax'))\n",
        "model.compile(loss='categorical_crossentropy', optimizer='adam', metrics=['accuracy'])\n",
        "history = model.fit(input_sequences, one_hot_labels, epochs=100, verbose=1)"
      ]
    },
    {
      "cell_type": "markdown",
      "metadata": {
        "id": "MgvIz20nlQcq"
      },
      "source": [
        "### View the Training Graph"
      ]
    },
    {
      "cell_type": "code",
      "execution_count": 8,
      "metadata": {
        "id": "rOqmmarvlSLh",
        "outputId": "30df0513-b77b-4025-a0ef-e96dd6edef43",
        "colab": {
          "base_uri": "https://localhost:8080/",
          "height": 279
        }
      },
      "outputs": [
        {
          "output_type": "display_data",
          "data": {
            "text/plain": [
              "<Figure size 432x288 with 1 Axes>"
            ],
            "image/png": "[encoded data removed]"
          },
          "metadata": {
            "needs_background": "light"
          }
        }
      ],
      "source": [
        "import matplotlib.pyplot as plt\n",
        "\n",
        "def plot_graphs(history, string):\n",
        "  plt.plot(history.history[string])\n",
        "  plt.xlabel(\"Epochs\")\n",
        "  plt.ylabel(string)\n",
        "  plt.show()\n",
        "\n",
        "plot_graphs(history, 'accuracy')"
      ]
    },
    {
      "cell_type": "markdown",
      "metadata": {
        "id": "ISLZZGlQlSxh"
      },
      "source": [
        "### Generate better lyrics!\n",
        "\n",
        "This time around, we should be able to get a more interesting output with less repetition."
      ]
    },
    {
      "cell_type": "code",
      "execution_count": 9,
      "metadata": {
        "id": "P96oVMk3lU7y",
        "outputId": "7f792019-4371-4a38-ac09-ec4a42ae19a7",
        "colab": {
          "base_uri": "https://localhost:8080/"
        }
      },
      "outputs": [
        {
          "output_type": "stream",
          "name": "stdout",
          "text": [
            "1/1 [==============================] - 1s 800ms/step\n",
            "1/1 [==============================] - 0s 23ms/step\n",
            "1/1 [==============================] - 0s 22ms/step\n",
            "1/1 [==============================] - 0s 25ms/step\n",
            "1/1 [==============================] - 0s 28ms/step\n",
            "1/1 [==============================] - 0s 25ms/step\n",
            "1/1 [==============================] - 0s 23ms/step\n",
            "1/1 [==============================] - 0s 22ms/step\n",
            "1/1 [==============================] - 0s 22ms/step\n",
            "1/1 [==============================] - 0s 24ms/step\n",
            "1/1 [==============================] - 0s 25ms/step\n",
            "1/1 [==============================] - 0s 24ms/step\n",
            "1/1 [==============================] - 0s 25ms/step\n",
            "1/1 [==============================] - 0s 25ms/step\n",
            "1/1 [==============================] - 0s 24ms/step\n",
            "1/1 [==============================] - 0s 26ms/step\n",
            "1/1 [==============================] - 0s 30ms/step\n",
            "1/1 [==============================] - 0s 27ms/step\n",
            "1/1 [==============================] - 0s 23ms/step\n",
            "1/1 [==============================] - 0s 32ms/step\n",
            "1/1 [==============================] - 0s 24ms/step\n",
            "1/1 [==============================] - 0s 30ms/step\n",
            "1/1 [==============================] - 0s 24ms/step\n",
            "1/1 [==============================] - 0s 24ms/step\n",
            "1/1 [==============================] - 0s 24ms/step\n",
            "1/1 [==============================] - 0s 24ms/step\n",
            "1/1 [==============================] - 0s 23ms/step\n",
            "1/1 [==============================] - 0s 33ms/step\n",
            "1/1 [==============================] - 0s 26ms/step\n",
            "1/1 [==============================] - 0s 24ms/step\n",
            "1/1 [==============================] - 0s 23ms/step\n",
            "1/1 [==============================] - 0s 23ms/step\n",
            "1/1 [==============================] - 0s 25ms/step\n",
            "1/1 [==============================] - 0s 24ms/step\n",
            "1/1 [==============================] - 0s 24ms/step\n",
            "1/1 [==============================] - 0s 25ms/step\n",
            "1/1 [==============================] - 0s 26ms/step\n",
            "1/1 [==============================] - 0s 23ms/step\n",
            "1/1 [==============================] - 0s 24ms/step\n",
            "1/1 [==============================] - 0s 22ms/step\n",
            "1/1 [==============================] - 0s 23ms/step\n",
            "1/1 [==============================] - 0s 23ms/step\n",
            "1/1 [==============================] - 0s 25ms/step\n",
            "1/1 [==============================] - 0s 24ms/step\n",
            "1/1 [==============================] - 0s 25ms/step\n",
            "1/1 [==============================] - 0s 25ms/step\n",
            "1/1 [==============================] - 0s 23ms/step\n",
            "1/1 [==============================] - 0s 22ms/step\n",
            "1/1 [==============================] - 0s 26ms/step\n",
            "1/1 [==============================] - 0s 25ms/step\n",
            "1/1 [==============================] - 0s 25ms/step\n",
            "1/1 [==============================] - 0s 30ms/step\n",
            "1/1 [==============================] - 0s 22ms/step\n",
            "1/1 [==============================] - 0s 22ms/step\n",
            "1/1 [==============================] - 0s 23ms/step\n",
            "1/1 [==============================] - 0s 27ms/step\n",
            "1/1 [==============================] - 0s 22ms/step\n",
            "1/1 [==============================] - 0s 22ms/step\n",
            "1/1 [==============================] - 0s 23ms/step\n",
            "1/1 [==============================] - 0s 24ms/step\n",
            "1/1 [==============================] - 0s 23ms/step\n",
            "1/1 [==============================] - 0s 26ms/step\n",
            "1/1 [==============================] - 0s 22ms/step\n",
            "1/1 [==============================] - 0s 27ms/step\n",
            "1/1 [==============================] - 0s 25ms/step\n",
            "1/1 [==============================] - 0s 22ms/step\n",
            "1/1 [==============================] - 0s 23ms/step\n",
            "1/1 [==============================] - 0s 23ms/step\n",
            "1/1 [==============================] - 0s 22ms/step\n",
            "1/1 [==============================] - 0s 24ms/step\n",
            "1/1 [==============================] - 0s 24ms/step\n",
            "1/1 [==============================] - 0s 22ms/step\n",
            "1/1 [==============================] - 0s 23ms/step\n",
            "1/1 [==============================] - 0s 26ms/step\n",
            "1/1 [==============================] - 0s 23ms/step\n",
            "1/1 [==============================] - 0s 24ms/step\n",
            "1/1 [==============================] - 0s 24ms/step\n",
            "1/1 [==============================] - 0s 24ms/step\n",
            "1/1 [==============================] - 0s 22ms/step\n",
            "1/1 [==============================] - 0s 23ms/step\n",
            "1/1 [==============================] - 0s 22ms/step\n",
            "1/1 [==============================] - 0s 30ms/step\n",
            "1/1 [==============================] - 0s 23ms/step\n",
            "1/1 [==============================] - 0s 22ms/step\n",
            "1/1 [==============================] - 0s 21ms/step\n",
            "1/1 [==============================] - 0s 24ms/step\n",
            "1/1 [==============================] - 0s 22ms/step\n",
            "1/1 [==============================] - 0s 22ms/step\n",
            "1/1 [==============================] - 0s 21ms/step\n",
            "1/1 [==============================] - 0s 22ms/step\n",
            "1/1 [==============================] - 0s 23ms/step\n",
            "1/1 [==============================] - 0s 22ms/step\n",
            "1/1 [==============================] - 0s 24ms/step\n",
            "1/1 [==============================] - 0s 26ms/step\n",
            "1/1 [==============================] - 0s 25ms/step\n",
            "1/1 [==============================] - 0s 21ms/step\n",
            "1/1 [==============================] - 0s 22ms/step\n",
            "1/1 [==============================] - 0s 22ms/step\n",
            "1/1 [==============================] - 0s 32ms/step\n",
            "1/1 [==============================] - 0s 24ms/step\n",
            "im feeling chills to go now or leave a song at all night we parted got a white sombrero down above you break trial scared ok four gotten step given dreamed trip on your knees fair milk weave begun forgive doctor deep girls teacher memory action want to put me that i was wondering ill be ooh baby cause i was dumb dumb heart to be like a boomaboomerang is love twilight bone way jet lights know you am the a mother part part cest pushing moods pleading row ohoh masters woe seem west chance west pushing success realized rhythm rhythm rhythm rhythm\n"
          ]
        }
      ],
      "source": [
        "seed_text = \"im feeling chills\"\n",
        "next_words = 100\n",
        "  \n",
        "for _ in range(next_words):\n",
        "\ttoken_list = tokenizer.texts_to_sequences([seed_text])[0]\n",
        "\ttoken_list = pad_sequences([token_list], maxlen=max_sequence_len-1, padding='pre')\n",
        "\tpredicted = np.argmax(model.predict(token_list), axis=-1)\n",
        "\toutput_word = \"\"\n",
        "\tfor word, index in tokenizer.word_index.items():\n",
        "\t\tif index == predicted:\n",
        "\t\t\toutput_word = word\n",
        "\t\t\tbreak\n",
        "\tseed_text += \" \" + output_word\n",
        "print(seed_text)"
      ]
    },
    {
      "cell_type": "markdown",
      "metadata": {
        "id": "upgJKV8_oRU9"
      },
      "source": [
        "### Varying the Possible Outputs\n",
        "\n",
        "In running the above, you may notice that the same seed text will generate similar outputs. This is because the code is currently always choosing the top predicted class as the next word. What if you wanted more variance in the output? \n",
        "\n",
        "Switching from `model.predict_classes` to `model.predict_proba` will get us all of the class probabilities. We can combine this with `np.random.choice` to select a given predicted output based on a probability, thereby giving a bit more randomness to our outputs."
      ]
    },
    {
      "cell_type": "code",
      "execution_count": 10,
      "metadata": {
        "id": "lZe9gaJeoGVP",
        "outputId": "b5e5066d-dd72-48a7-d123-f50cad2b513b",
        "colab": {
          "base_uri": "https://localhost:8080/"
        }
      },
      "outputs": [
        {
          "output_type": "stream",
          "name": "stdout",
          "text": [
            "1/1 [==============================] - 0s 24ms/step\n",
            "6\n"
          ]
        }
      ],
      "source": [
        "# Test the method with just the first word after the seed text\n",
        "seed_text = \"im feeling chills\"\n",
        "next_words = 100\n",
        "  \n",
        "token_list = tokenizer.texts_to_sequences([seed_text])[0]\n",
        "token_list = pad_sequences([token_list], maxlen=max_sequence_len-1, padding='pre')\n",
        "predicted_probs = model.predict(token_list)[0]\n",
        "predicted = np.random.choice([x for x in range(len(predicted_probs))], \n",
        "                             p=predicted_probs)\n",
        "# Running this cell multiple times should get you some variance in output\n",
        "print(predicted)"
      ]
    },
    {
      "cell_type": "code",
      "execution_count": 11,
      "metadata": {
        "id": "ee7WKgRGrJy1",
        "outputId": "e5abb89b-5462-4b52-bd61-ab6d91e4381c",
        "colab": {
          "base_uri": "https://localhost:8080/"
        }
      },
      "outputs": [
        {
          "output_type": "stream",
          "name": "stdout",
          "text": [
            "1/1 [==============================] - 0s 23ms/step\n",
            "1/1 [==============================] - 0s 22ms/step\n",
            "1/1 [==============================] - 0s 22ms/step\n",
            "1/1 [==============================] - 0s 22ms/step\n",
            "1/1 [==============================] - 0s 23ms/step\n",
            "1/1 [==============================] - 0s 21ms/step\n",
            "1/1 [==============================] - 0s 22ms/step\n",
            "1/1 [==============================] - 0s 22ms/step\n",
            "1/1 [==============================] - 0s 23ms/step\n",
            "1/1 [==============================] - 0s 22ms/step\n",
            "1/1 [==============================] - 0s 25ms/step\n",
            "1/1 [==============================] - 0s 22ms/step\n",
            "1/1 [==============================] - 0s 51ms/step\n",
            "1/1 [==============================] - 0s 38ms/step\n",
            "1/1 [==============================] - 0s 41ms/step\n",
            "1/1 [==============================] - 0s 31ms/step\n",
            "1/1 [==============================] - 0s 30ms/step\n",
            "1/1 [==============================] - 0s 33ms/step\n",
            "1/1 [==============================] - 0s 37ms/step\n",
            "1/1 [==============================] - 0s 33ms/step\n",
            "1/1 [==============================] - 0s 31ms/step\n",
            "1/1 [==============================] - 0s 30ms/step\n",
            "1/1 [==============================] - 0s 42ms/step\n",
            "1/1 [==============================] - 0s 34ms/step\n",
            "1/1 [==============================] - 0s 31ms/step\n",
            "1/1 [==============================] - 0s 31ms/step\n",
            "1/1 [==============================] - 0s 46ms/step\n",
            "1/1 [==============================] - 0s 31ms/step\n",
            "1/1 [==============================] - 0s 32ms/step\n",
            "1/1 [==============================] - 0s 30ms/step\n",
            "1/1 [==============================] - 0s 31ms/step\n",
            "1/1 [==============================] - 0s 36ms/step\n",
            "1/1 [==============================] - 0s 31ms/step\n",
            "1/1 [==============================] - 0s 33ms/step\n",
            "1/1 [==============================] - 0s 31ms/step\n",
            "1/1 [==============================] - 0s 31ms/step\n",
            "1/1 [==============================] - 0s 23ms/step\n",
            "1/1 [==============================] - 0s 26ms/step\n",
            "1/1 [==============================] - 0s 23ms/step\n",
            "1/1 [==============================] - 0s 22ms/step\n",
            "1/1 [==============================] - 0s 25ms/step\n",
            "1/1 [==============================] - 0s 21ms/step\n",
            "1/1 [==============================] - 0s 21ms/step\n",
            "1/1 [==============================] - 0s 21ms/step\n",
            "1/1 [==============================] - 0s 25ms/step\n",
            "1/1 [==============================] - 0s 25ms/step\n",
            "1/1 [==============================] - 0s 22ms/step\n",
            "1/1 [==============================] - 0s 23ms/step\n",
            "1/1 [==============================] - 0s 25ms/step\n",
            "1/1 [==============================] - 0s 27ms/step\n",
            "1/1 [==============================] - 0s 23ms/step\n",
            "1/1 [==============================] - 0s 23ms/step\n",
            "1/1 [==============================] - 0s 25ms/step\n",
            "1/1 [==============================] - 0s 23ms/step\n",
            "1/1 [==============================] - 0s 23ms/step\n",
            "1/1 [==============================] - 0s 28ms/step\n",
            "1/1 [==============================] - 0s 24ms/step\n",
            "1/1 [==============================] - 0s 23ms/step\n",
            "1/1 [==============================] - 0s 20ms/step\n",
            "1/1 [==============================] - 0s 20ms/step\n",
            "1/1 [==============================] - 0s 21ms/step\n",
            "1/1 [==============================] - 0s 22ms/step\n",
            "1/1 [==============================] - 0s 23ms/step\n",
            "1/1 [==============================] - 0s 19ms/step\n",
            "1/1 [==============================] - 0s 23ms/step\n",
            "1/1 [==============================] - 0s 24ms/step\n",
            "1/1 [==============================] - 0s 20ms/step\n",
            "1/1 [==============================] - 0s 21ms/step\n",
            "1/1 [==============================] - 0s 23ms/step\n",
            "1/1 [==============================] - 0s 25ms/step\n",
            "1/1 [==============================] - 0s 20ms/step\n",
            "1/1 [==============================] - 0s 20ms/step\n",
            "1/1 [==============================] - 0s 22ms/step\n",
            "1/1 [==============================] - 0s 23ms/step\n",
            "1/1 [==============================] - 0s 28ms/step\n",
            "1/1 [==============================] - 0s 21ms/step\n",
            "1/1 [==============================] - 0s 22ms/step\n",
            "1/1 [==============================] - 0s 22ms/step\n",
            "1/1 [==============================] - 0s 23ms/step\n",
            "1/1 [==============================] - 0s 23ms/step\n",
            "1/1 [==============================] - 0s 22ms/step\n",
            "1/1 [==============================] - 0s 21ms/step\n",
            "1/1 [==============================] - 0s 21ms/step\n",
            "1/1 [==============================] - 0s 22ms/step\n",
            "1/1 [==============================] - 0s 22ms/step\n",
            "1/1 [==============================] - 0s 21ms/step\n",
            "1/1 [==============================] - 0s 23ms/step\n",
            "1/1 [==============================] - 0s 20ms/step\n",
            "1/1 [==============================] - 0s 22ms/step\n",
            "1/1 [==============================] - 0s 21ms/step\n",
            "1/1 [==============================] - 0s 25ms/step\n",
            "1/1 [==============================] - 0s 26ms/step\n",
            "1/1 [==============================] - 0s 22ms/step\n",
            "1/1 [==============================] - 0s 23ms/step\n",
            "1/1 [==============================] - 0s 20ms/step\n",
            "1/1 [==============================] - 0s 21ms/step\n",
            "1/1 [==============================] - 0s 21ms/step\n",
            "1/1 [==============================] - 0s 22ms/step\n",
            "1/1 [==============================] - 0s 26ms/step\n",
            "1/1 [==============================] - 0s 23ms/step\n",
            "im feeling chills to be home tonight for lovers get it up and the dream do is heads at first our seventeen band yes to pretend along town together all im forty jive wish mother return this sin yonder near me glove down about places weve hawaii gets it with gotten wellplanned eternity around the way i i find her lonely ba midnight missin through tree again bends off for town together all alone and it outside needle fire changing yeah in me comin beauty sword beauty lot played arms think woe is me strange hello me doctor doctor doctor doctor doctor restless\n"
          ]
        }
      ],
      "source": [
        "# Use this process for the full output generation\n",
        "seed_text = \"im feeling chills\"\n",
        "next_words = 100\n",
        "  \n",
        "for _ in range(next_words):\n",
        "  token_list = tokenizer.texts_to_sequences([seed_text])[0]\n",
        "  token_list = pad_sequences([token_list], maxlen=max_sequence_len-1, padding='pre')\n",
        "  predicted_probs = model.predict(token_list)[0]\n",
        "  predicted = np.random.choice([x for x in range(len(predicted_probs))],\n",
        "                               p=predicted_probs)\n",
        "  output_word = \"\"\n",
        "  for word, index in tokenizer.word_index.items():\n",
        "    if index == predicted:\n",
        "      output_word = word\n",
        "      break\n",
        "  seed_text += \" \" + output_word\n",
        "print(seed_text)"
      ]
    }
  ],
  "metadata": {
    "accelerator": "GPU",
    "colab": {
      "name": "l10c04_nlp_optimizing_the_text_generation_model.ipynb",
      "provenance": []
    },
    "kernelspec": {
      "display_name": "Python 3",
      "name": "python3"
    },
    "gpuClass": "standard"
  },
  "nbformat": 4,
  "nbformat_minor": 0
}